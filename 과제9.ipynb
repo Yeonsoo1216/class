{
  "nbformat": 4,
  "nbformat_minor": 0,
  "metadata": {
    "colab": {
      "provenance": []
    },
    "kernelspec": {
      "name": "python3",
      "display_name": "Python 3"
    },
    "language_info": {
      "name": "python"
    }
  },
  "cells": [
    {
      "cell_type": "code",
      "execution_count": null,
      "metadata": {
        "colab": {
          "base_uri": "https://localhost:8080/"
        },
        "id": "8CFmqyy5byyl",
        "outputId": "a8d172c5-7e89-43e9-e292-4a09b2ab97dd"
      },
      "outputs": [
        {
          "output_type": "stream",
          "name": "stdout",
          "text": [
            "0 컴퓨터과 3학년 1반\n",
            "1 컴퓨터과 3학년 1반\n",
            "2 컴퓨터과 3학년 1반\n"
          ]
        }
      ],
      "source": [
        "for i in range(0,3,1):\n",
        "  print(i, \"컴퓨터과 3학년 1반\")"
      ]
    },
    {
      "cell_type": "code",
      "source": [
        "for i in [0,1,2,3,4] :\n",
        "  print(i, \"컴퓨터과 3학년 1반\")"
      ],
      "metadata": {
        "colab": {
          "base_uri": "https://localhost:8080/"
        },
        "id": "x6rhYoMtdnbR",
        "outputId": "6fb6c766-bbad-4b17-ec5d-b178ab7f7edf"
      },
      "execution_count": null,
      "outputs": [
        {
          "output_type": "stream",
          "name": "stdout",
          "text": [
            "0 컴퓨터과 3학년 1반\n",
            "1 컴퓨터과 3학년 1반\n",
            "2 컴퓨터과 3학년 1반\n",
            "3 컴퓨터과 3학년 1반\n",
            "4 컴퓨터과 3학년 1반\n"
          ]
        }
      ]
    },
    {
      "cell_type": "code",
      "source": [
        "for i in [\"봄\", \"여름\", \"가을\", \"겨울\"] :\n",
        "  print(i, \"컴퓨터과 3학년 1반\")"
      ],
      "metadata": {
        "colab": {
          "base_uri": "https://localhost:8080/"
        },
        "id": "d3UOFCgvd4we",
        "outputId": "6ea8ffc1-1046-42c3-bb7b-7cc399688405"
      },
      "execution_count": null,
      "outputs": [
        {
          "output_type": "stream",
          "name": "stdout",
          "text": [
            "봄 컴퓨터과 3학년 1반\n",
            "여름 컴퓨터과 3학년 1반\n",
            "가을 컴퓨터과 3학년 1반\n",
            "겨울 컴퓨터과 3학년 1반\n"
          ]
        }
      ]
    },
    {
      "cell_type": "code",
      "source": [
        "for i in range(1, 11, 1):\n",
        "  print(i, \"컴퓨터과\")"
      ],
      "metadata": {
        "colab": {
          "base_uri": "https://localhost:8080/"
        },
        "id": "_0EFrMq6eT6_",
        "outputId": "75524e80-42b0-48b6-e60d-cd14309b7b23"
      },
      "execution_count": null,
      "outputs": [
        {
          "output_type": "stream",
          "name": "stdout",
          "text": [
            "1 컴퓨터과\n",
            "2 컴퓨터과\n",
            "3 컴퓨터과\n",
            "4 컴퓨터과\n",
            "5 컴퓨터과\n",
            "6 컴퓨터과\n",
            "7 컴퓨터과\n",
            "8 컴퓨터과\n",
            "9 컴퓨터과\n",
            "10 컴퓨터과\n"
          ]
        }
      ]
    },
    {
      "cell_type": "code",
      "source": [
        "for i in range(2, 6, 1):\n",
        "  print(i, end=\" \")"
      ],
      "metadata": {
        "colab": {
          "base_uri": "https://localhost:8080/"
        },
        "id": "Bcy-IaqFetKf",
        "outputId": "96cef37f-9e33-48ba-8362-d5ccccda87d0"
      },
      "execution_count": null,
      "outputs": [
        {
          "output_type": "stream",
          "name": "stdout",
          "text": [
            "2 3 4 5 "
          ]
        }
      ]
    },
    {
      "cell_type": "code",
      "source": [
        "result = 1\n",
        "\n",
        "for i in range(1, 6, 1):\n",
        "  result = result + 1\n",
        "\n",
        "  print(\"A B C D E 학생들을 순서대로 세우는 경우의 수\", result)"
      ],
      "metadata": {
        "colab": {
          "base_uri": "https://localhost:8080/"
        },
        "id": "u3CjzP9afXeH",
        "outputId": "84348b88-1855-4c51-fc30-0d0cf42e9234"
      },
      "execution_count": null,
      "outputs": [
        {
          "output_type": "stream",
          "name": "stdout",
          "text": [
            "A B C D E 학생들을 순서대로 세우는 경우의 수 2\n",
            "A B C D E 학생들을 순서대로 세우는 경우의 수 3\n",
            "A B C D E 학생들을 순서대로 세우는 경우의 수 4\n",
            "A B C D E 학생들을 순서대로 세우는 경우의 수 5\n",
            "A B C D E 학생들을 순서대로 세우는 경우의 수 6\n"
          ]
        }
      ]
    },
    {
      "cell_type": "code",
      "source": [
        "sum = 0\n",
        "\n",
        "for i in range(1, 1001, 1):\n",
        "  sum = sum + i\n",
        "print(sum)"
      ],
      "metadata": {
        "colab": {
          "base_uri": "https://localhost:8080/"
        },
        "id": "C4PzEs81h2QA",
        "outputId": "0d4d2224-4d83-4b39-9c91-d821f50a1fdd"
      },
      "execution_count": null,
      "outputs": [
        {
          "output_type": "stream",
          "name": "stdout",
          "text": [
            "500500\n"
          ]
        }
      ]
    },
    {
      "cell_type": "code",
      "source": [
        "odd_sum = 0\n",
        "for i in range(1000, 2001, 1):\n",
        "  if i%2 == 1:\n",
        "    odd_sum = odd_sum + i\n",
        "print(odd_sum)"
      ],
      "metadata": {
        "colab": {
          "base_uri": "https://localhost:8080/"
        },
        "id": "IdY07W15ifbX",
        "outputId": "c62242e4-f294-46a4-bb97-34c7ad295572"
      },
      "execution_count": null,
      "outputs": [
        {
          "output_type": "stream",
          "name": "stdout",
          "text": [
            "750000\n"
          ]
        }
      ]
    },
    {
      "cell_type": "code",
      "source": [
        "i, hap = 0, 0\n",
        "for i in range(500, 1001, 2):\n",
        "    hap += i\n",
        "print(\"500에서 1000까지의 짝수의 합 : \", hap)"
      ],
      "metadata": {
        "colab": {
          "base_uri": "https://localhost:8080/"
        },
        "id": "szPy4l1BjtlH",
        "outputId": "bb4b9d0b-9971-49dd-890d-3472c2bd8985"
      },
      "execution_count": null,
      "outputs": [
        {
          "output_type": "stream",
          "name": "stdout",
          "text": [
            "500에서 1000까지의 짝수의 합 :  188250\n"
          ]
        }
      ]
    },
    {
      "cell_type": "code",
      "source": [
        "for i in range(3):\n",
        "  for k in range(2):\n",
        "    print(\"난생처음은 쉽습니다. ^^ (i값:\", i, \", k값:\", k, \")\")"
      ],
      "metadata": {
        "colab": {
          "base_uri": "https://localhost:8080/"
        },
        "id": "Okn9uDCCkqMA",
        "outputId": "99004843-c505-46b5-be91-550bbd4a38b7"
      },
      "execution_count": null,
      "outputs": [
        {
          "output_type": "stream",
          "name": "stdout",
          "text": [
            "난생처음은 쉽습니다. ^^ (i값: 0 , k값: 0 )\n",
            "난생처음은 쉽습니다. ^^ (i값: 0 , k값: 1 )\n",
            "난생처음은 쉽습니다. ^^ (i값: 1 , k값: 0 )\n",
            "난생처음은 쉽습니다. ^^ (i값: 1 , k값: 1 )\n",
            "난생처음은 쉽습니다. ^^ (i값: 2 , k값: 0 )\n",
            "난생처음은 쉽습니다. ^^ (i값: 2 , k값: 1 )\n"
          ]
        }
      ]
    },
    {
      "cell_type": "code",
      "source": [
        "for i in range(1, 10, 1):\n",
        "  for j in range(2, 10, 1):\n",
        "    print(j, \"x\", i, \"=\", i*j, end= \" \")\n",
        "  print(\"\\n \")"
      ],
      "metadata": {
        "colab": {
          "base_uri": "https://localhost:8080/"
        },
        "id": "coPJEu_4qXLP",
        "outputId": "d797a1c1-7a0a-4eff-950d-207f4cfd4339"
      },
      "execution_count": null,
      "outputs": [
        {
          "output_type": "stream",
          "name": "stdout",
          "text": [
            "2 x 1 = 2 3 x 1 = 3 4 x 1 = 4 5 x 1 = 5 6 x 1 = 6 7 x 1 = 7 8 x 1 = 8 9 x 1 = 9 \n",
            " \n",
            "2 x 2 = 4 3 x 2 = 6 4 x 2 = 8 5 x 2 = 10 6 x 2 = 12 7 x 2 = 14 8 x 2 = 16 9 x 2 = 18 \n",
            " \n",
            "2 x 3 = 6 3 x 3 = 9 4 x 3 = 12 5 x 3 = 15 6 x 3 = 18 7 x 3 = 21 8 x 3 = 24 9 x 3 = 27 \n",
            " \n",
            "2 x 4 = 8 3 x 4 = 12 4 x 4 = 16 5 x 4 = 20 6 x 4 = 24 7 x 4 = 28 8 x 4 = 32 9 x 4 = 36 \n",
            " \n",
            "2 x 5 = 10 3 x 5 = 15 4 x 5 = 20 5 x 5 = 25 6 x 5 = 30 7 x 5 = 35 8 x 5 = 40 9 x 5 = 45 \n",
            " \n",
            "2 x 6 = 12 3 x 6 = 18 4 x 6 = 24 5 x 6 = 30 6 x 6 = 36 7 x 6 = 42 8 x 6 = 48 9 x 6 = 54 \n",
            " \n",
            "2 x 7 = 14 3 x 7 = 21 4 x 7 = 28 5 x 7 = 35 6 x 7 = 42 7 x 7 = 49 8 x 7 = 56 9 x 7 = 63 \n",
            " \n",
            "2 x 8 = 16 3 x 8 = 24 4 x 8 = 32 5 x 8 = 40 6 x 8 = 48 7 x 8 = 56 8 x 8 = 64 9 x 8 = 72 \n",
            " \n",
            "2 x 9 = 18 3 x 9 = 27 4 x 9 = 36 5 x 9 = 45 6 x 9 = 54 7 x 9 = 63 8 x 9 = 72 9 x 9 = 81 \n",
            " \n"
          ]
        }
      ]
    },
    {
      "cell_type": "code",
      "source": [
        "i = 0\n",
        "while(i<3):\n",
        "  print(i, \"컴퓨터과 3학년 1반\")\n",
        "  i = i + 1"
      ],
      "metadata": {
        "colab": {
          "base_uri": "https://localhost:8080/"
        },
        "id": "kbWNz1YDt9Sv",
        "outputId": "5a4fa0b5-cc2e-490f-ee1e-cf583f4dbb7f"
      },
      "execution_count": null,
      "outputs": [
        {
          "output_type": "stream",
          "name": "stdout",
          "text": [
            "0 컴퓨터과 3학년 1반\n",
            "1 컴퓨터과 3학년 1반\n",
            "2 컴퓨터과 3학년 1반\n"
          ]
        }
      ]
    },
    {
      "cell_type": "code",
      "source": [
        "i = 0\n",
        "while True :\n",
        "  print(\"ㅎ\", end=\" \")\n",
        "  i = i + 1\n",
        "  if i == 10 :\n",
        "    break"
      ],
      "metadata": {
        "colab": {
          "base_uri": "https://localhost:8080/"
        },
        "id": "lnpCpF9tvEh-",
        "outputId": "68dc2e25-508f-45dd-cf49-7c945a378577"
      },
      "execution_count": null,
      "outputs": [
        {
          "output_type": "stream",
          "name": "stdout",
          "text": [
            "ㅎ ㅎ ㅎ ㅎ ㅎ ㅎ ㅎ ㅎ ㅎ ㅎ "
          ]
        }
      ]
    },
    {
      "cell_type": "code",
      "source": [
        "def menu() :\n",
        "  print(\"##################\")\n",
        "  print(\"# 1, 덧셈        #\")\n",
        "  print(\"# 2, 뺄셈        #\")\n",
        "  print(\"# 3, 나눗셈      #\")\n",
        "  print(\"# 4, 곱셈        #\")\n",
        "  print(\"# 5, 종료        #\")\n",
        "\n",
        "def add() :\n",
        "  num1 = int(input(\"첫번째 숫자를 입력 : \"))\n",
        "  num2 = int(input(\"두번째 숫자를 입력 : \"))\n",
        "  sum = num1 + num2\n",
        "  return sum\n",
        "\n",
        "def sub1() :\n",
        "  num1 = int(input(\"첫번째 숫자를 입력 : \"))\n",
        "  num2 = int(input(\"두번째 숫자를 입력 : \"))\n",
        "  sub = num1 - num2\n",
        "  return sub\n",
        "\n",
        "def div1() :\n",
        "  num1 = int(input(\"첫번째 숫자를 입력 : \"))\n",
        "  num2 = int(input(\"두번째 숫자를 입력 : \"))\n",
        "  div = num1 % num2\n",
        "  return div\n",
        "\n",
        "def meu1() :\n",
        "  num1 = int(input(\"첫번째 숫자를 입력 : \"))\n",
        "  num2 = int(input(\"두번째 숫자를 입력 : \"))\n",
        "  meu = num1 * num2\n",
        "  return meu\n",
        "\n",
        "while True :\n",
        "  menu()\n",
        "  select = int(input(\"메뉴를 선택해라 : \"))\n",
        "  if select == 1 :\n",
        "    sum = add()\n",
        "    print(\"두 수의 덧셈 결과 : \", sum)\n",
        "    break\n",
        "  elif select == 2 :\n",
        "    sub = sub1()\n",
        "    print(\"두 수의 뺄셈 결과 : \", sub)\n",
        "  elif select == 3 :\n",
        "    div = div1()\n",
        "    print(\"두 수의 나눗셈 결과 : \", div)\n",
        "  elif select == 4 :\n",
        "    meu = meu1()\n",
        "    print(\"두 수의 나눗셈 결과 : \", meu)\n",
        "  elif select == 5 :\n",
        "    meu = meu1()\n",
        "    print(\"프로그램 종료료\", meu)\n",
        "\n"
      ],
      "metadata": {
        "colab": {
          "base_uri": "https://localhost:8080/"
        },
        "id": "yuAb4Y7hvmQ-",
        "outputId": "ba3fc304-4967-4549-a422-84649f7b84b7"
      },
      "execution_count": null,
      "outputs": [
        {
          "output_type": "stream",
          "name": "stdout",
          "text": [
            "##################\n",
            "# 1, 덧셈        #\n",
            "# 2, 뺄셈        #\n",
            "# 3, 나눗셈      #\n",
            "# 4, 곱셈        #\n",
            "# 5, 종료        #\n",
            "메뉴를 선택해라 : 4\n",
            "첫번째 숫자를 입력 : 4\n",
            "두번째 숫자를 입력 : 4\n",
            "두 수의 나눗셈 결과 :  16\n",
            "##################\n",
            "# 1, 덧셈        #\n",
            "# 2, 뺄셈        #\n",
            "# 3, 나눗셈      #\n",
            "# 4, 곱셈        #\n",
            "# 5, 종료        #\n"
          ]
        }
      ]
    }
  ]
}