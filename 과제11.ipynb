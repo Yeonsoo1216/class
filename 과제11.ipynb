{
  "nbformat": 4,
  "nbformat_minor": 0,
  "metadata": {
    "colab": {
      "provenance": [],
      "authorship_tag": "ABX9TyOMJtoKb9r0RwuXmbVsCb7L",
      "include_colab_link": true
    },
    "kernelspec": {
      "name": "python3",
      "display_name": "Python 3"
    },
    "language_info": {
      "name": "python"
    }
  },
  "cells": [
    {
      "cell_type": "markdown",
      "metadata": {
        "id": "view-in-github",
        "colab_type": "text"
      },
      "source": [
        "<a href=\"https://colab.research.google.com/github/Yeonsoo1216/class/blob/main/%EA%B3%BC%EC%A0%9C11.ipynb\" target=\"_parent\"><img src=\"https://colab.research.google.com/assets/colab-badge.svg\" alt=\"Open In Colab\"/></a>"
      ]
    },
    {
      "cell_type": "code",
      "execution_count": 4,
      "metadata": {
        "colab": {
          "base_uri": "https://localhost:8080/"
        },
        "id": "qHrCnO-Iepq4",
        "outputId": "909f3da4-fd63-41eb-8006-c64f1f22ffa3"
      },
      "outputs": [
        {
          "output_type": "stream",
          "name": "stdout",
          "text": [
            "숫자 : 2\n",
            "숫자 : 4\n",
            "숫자 : 6\n",
            "숫자 : 8\n",
            "합계 ==>  20\n"
          ]
        }
      ],
      "source": [
        "numlist = [0, 1, 2, 3, 4];\n",
        "hap = 0;\n",
        "\n",
        "num1 = int(input(\"숫자 : \"))\n",
        "num2 = int(input(\"숫자 : \"))\n",
        "num3 = int(input(\"숫자 : \"))\n",
        "num4 = int(input(\"숫자 : \"))\n",
        "\n",
        "hap = num1 + num2 + num3 + num4;\n",
        "\n",
        "print(\"합계 ==> \", hap);"
      ]
    },
    {
      "cell_type": "code",
      "source": [
        "myList = [];\n",
        "\n",
        "myList.append(\"안산\");\n",
        "myList.append(\"공고\");\n",
        "\n",
        "myList.append(3100);\n",
        "myList.append(777);\n",
        "\n",
        "print(myList);"
      ],
      "metadata": {
        "colab": {
          "base_uri": "https://localhost:8080/"
        },
        "id": "yDN1rhJssoYa",
        "outputId": "31c52c1d-0971-4950-a0c7-5e03365dde9f"
      },
      "execution_count": 5,
      "outputs": [
        {
          "output_type": "stream",
          "name": "stdout",
          "text": [
            "['안산', '공고', 3100, 777]\n"
          ]
        }
      ]
    },
    {
      "cell_type": "code",
      "source": [
        "import random;\n",
        "wish = [\"중요한 것은 꺾이지 않는 마음\", \"너 자신을 알라\", \"피할 수 없으면 즐겨라\", \"신은 용기있는 자를 결코 버리지 않는다.\", \"내일은 내일의 태양이 뜬다.\", \"이 또한 지나가리라\"];\n",
        "\n",
        "rd = wish[random.randint(0, len(wish) - 1)];\n",
        "\n",
        "print(\"오늘의 명언 ==> \", rd);"
      ],
      "metadata": {
        "colab": {
          "base_uri": "https://localhost:8080/"
        },
        "id": "wXhOF9YYuvVy",
        "outputId": "34c0dad0-cae1-4b17-9156-428451493264"
      },
      "execution_count": 27,
      "outputs": [
        {
          "output_type": "stream",
          "name": "stdout",
          "text": [
            "오늘의 명언 ==>  너 자신을 알라\n"
          ]
        }
      ]
    },
    {
      "cell_type": "code",
      "source": [],
      "metadata": {
        "id": "fhXHbrrPyoda"
      },
      "execution_count": null,
      "outputs": []
    },
    {
      "cell_type": "code",
      "source": [
        "import datetime as dt\n",
        "\n",
        "now = dt.date.today();\n",
        "\n",
        "birth = dt.date(2023,11,16);\n",
        "\n",
        "age = birth - now;\n",
        "\n",
        "print(round(age.days));"
      ],
      "metadata": {
        "colab": {
          "base_uri": "https://localhost:8080/"
        },
        "id": "OncZ1tnIy6kB",
        "outputId": "cc6d0ad1-b318-4c57-bd29-2cea5da18e72"
      },
      "execution_count": 41,
      "outputs": [
        {
          "output_type": "stream",
          "name": "stdout",
          "text": [
            "220\n"
          ]
        }
      ]
    }
  ]
}