{
  "nbformat": 4,
  "nbformat_minor": 0,
  "metadata": {
    "colab": {
      "provenance": []
    },
    "kernelspec": {
      "name": "python3",
      "display_name": "Python 3"
    },
    "language_info": {
      "name": "python"
    }
  },
  "cells": [
    {
      "cell_type": "code",
      "execution_count": null,
      "metadata": {
        "colab": {
          "base_uri": "https://localhost:8080/"
        },
        "id": "VIj7WEHqTWCk",
        "outputId": "a53f086a-1ecd-4071-bfd7-f3745047fcfb"
      },
      "outputs": [
        {
          "output_type": "stream",
          "name": "stdout",
          "text": [
            "오늘 총 매출액은 11600 원입니다\n"
          ]
        }
      ],
      "source": [
        "triangleGimbap = 900\n",
        "bananaMilk = 1800\n",
        "lunchBox = 3500\n",
        "lunchBox2 = 4000\n",
        "cola = 1500\n",
        "shrimpCrackers = 2000\n",
        "canCoffee = 1800\n",
        "\n",
        "purchasePrise = triangleGimbap * 10\n",
        "purchasePrise1 = lunchBox * 5\n",
        "\n",
        "salePrice = bananaMilk = 1800 * 2\n",
        "salePrice1 = lunchBox2 = 4000 * 4\n",
        "salePrice2 = cola = 1500 * 1\n",
        "salePrice3 = shrimpCrackers = 2000 * 4\n",
        "salePrice4 = canCoffee = 1800 * 5\n",
        "\n",
        "sum = purchasePrise + purchasePrise1\n",
        "sum1 = salePrice + salePrice1 + salePrice2 + salePrice3 + salePrice4\n",
        "\n",
        "sum2 = sum1 - sum\n",
        "print(\"오늘 총 매출액은\", sum2, \"원입니다\")"
      ]
    }
  ]
}