{
  "nbformat": 4,
  "nbformat_minor": 0,
  "metadata": {
    "colab": {
      "provenance": [],
      "toc_visible": true
    },
    "kernelspec": {
      "name": "python3",
      "display_name": "Python 3"
    },
    "language_info": {
      "name": "python"
    }
  },
  "cells": [
    {
      "cell_type": "code",
      "execution_count": null,
      "metadata": {
        "colab": {
          "base_uri": "https://localhost:8080/"
        },
        "id": "CbwvEumPVcYM",
        "outputId": "0872c461-53d5-4a68-c609-a11d30bb021e"
      },
      "outputs": [
        {
          "output_type": "stream",
          "name": "stdout",
          "text": [
            "정보처리기능사 실기 점수 입력 : 66\n",
            "합격\n",
            "합격을 진심으로 축하드립니다.\n"
          ]
        }
      ],
      "source": [
        "score = int(input(\"정보처리기능사 실기 점수 입력 : \"))\n",
        "\n",
        "if score >= 60 :\n",
        "  print(\"합격\")\n",
        "  print(\"합격을 진심으로 축하드립니다.\")\n",
        "else :\n",
        "  print(\"불합격\")\n",
        "  print(\"아쉽게도 불합격이네요.\")\n"
      ]
    },
    {
      "cell_type": "code",
      "source": [
        "# 한줄 주석문 연습\n",
        "\"\"\"\n",
        "프로그래밍 : 수업 3월 20일\n",
        "프로그래머 : 김상민\n",
        "프로그램 최종 작성일 : 3월 20일\n",
        "프로그래명 : 프로그래밍 연습\n",
        "\"\"\"\n",
        "print(\"파이썬(3) : B(3.5) \\n\")\n",
        "print(\"모바일(2) : A0(4.0) \\n\")\n",
        "print(\"액셀(1) : A(4.5)\")\n",
        "python = float(input(\"파이썬 성적을 입력 (예 : 3.5) : \"))\n",
        "mobile = float(input(\"모바일 성적을 입력 : \"))\n",
        "excel = float(input(\"액셀 성적을 입력 : \"))\n",
        "\n",
        "result = (python * 3) + (mobile * 2) + excel\n",
        "avg = result / 6\n",
        "\n",
        "print(\"평균 학점은 : \", round(avg, 3))"
      ],
      "metadata": {
        "colab": {
          "base_uri": "https://localhost:8080/"
        },
        "id": "uuAN8D8lWvgH",
        "outputId": "8337911e-81a8-4f1f-8985-2017860d9f4b"
      },
      "execution_count": null,
      "outputs": [
        {
          "output_type": "stream",
          "name": "stdout",
          "text": [
            "파이썬(3) : B(3.5) \n",
            "\n",
            "모바일(2) : A0(4.0) \n",
            "\n",
            "액셀(1) : A(4.5)\n",
            "파이썬 성적을 입력 (예 : A)3.5\n",
            "모바일 성적을 입력 : 4.0\n",
            "액셀 성적을 입력 : 4.5\n",
            "평균 학점은 :  3.833\n"
          ]
        }
      ]
    },
    {
      "cell_type": "code",
      "source": [
        "print(\"\\n줄바꿈\\n연습\")\n",
        "print(\"\\t탭키\\t연습\")\n",
        "print(\"어떤 글자를 \\\"강조\\\" 하는 효과1\")\n",
        "print(\"어떤 글자를 \\'강조\\' 하는 효과2\")\n",
        "print(\"\\\\\\\\ 백슬래시 2개 출력\")\n"
      ],
      "metadata": {
        "colab": {
          "base_uri": "https://localhost:8080/"
        },
        "id": "RjIhblUzbJek",
        "outputId": "50202347-875e-4c48-f7a3-38bdae5b0168"
      },
      "execution_count": null,
      "outputs": [
        {
          "output_type": "stream",
          "name": "stdout",
          "text": [
            "\n",
            "줄바꿈\n",
            "연습\n",
            "\t탭키\t연습\n",
            "어떤 글자를 \"강조\" 하는 효과1\n",
            "어떤 글자를 '강조' 하는 효과2\n",
            "\\\\ 백슬래시 2개 출력\n"
          ]
        }
      ]
    },
    {
      "cell_type": "code",
      "source": [
        "from IPython.core.interactiveshell import re\n",
        "FirstString = input(\"첫번째 문자열 : \")\n",
        "SecondString = input(\"두번째 문자열 : \")\n",
        "\n",
        "result1 = len(FirstString)\n",
        "result2 = len(SecondString)\n",
        "\n",
        "diff = result1 - result2\n",
        "print(\"두 문자열의 길이 차이는 \",diff,\"입니다. \")"
      ],
      "metadata": {
        "colab": {
          "base_uri": "https://localhost:8080/"
        },
        "id": "nbm5C6tjeZtF",
        "outputId": "a96c6b23-4cf2-458d-881f-508f928b9a78"
      },
      "execution_count": null,
      "outputs": [
        {
          "output_type": "stream",
          "name": "stdout",
          "text": [
            "첫번째 문자열 : 난생처음 파이썬\n",
            "두번째 문자열 : First Python\n",
            "두 문자열의 길이 차이는  -4 입니다. \n"
          ]
        }
      ]
    },
    {
      "cell_type": "code",
      "source": [
        "str1 = \"\"\"\n",
        "안산공업고등학교 컴퓨터과, 안산공업고등학교는\n",
        "기계과, 전기과, 전자과, 화공과, 디자인과, 컴퓨터과로 총 6개의\n",
        " 과로 이뤄져있습니다.\n",
        "\"\"\"\n",
        "\n",
        "strLen = str1.count(\"안산\")\n",
        "print(strLen)"
      ],
      "metadata": {
        "colab": {
          "base_uri": "https://localhost:8080/"
        },
        "id": "ll9rY1QZifBu",
        "outputId": "508b52b4-5d7c-4136-f9b6-be590f68469e"
      },
      "execution_count": null,
      "outputs": [
        {
          "output_type": "stream",
          "name": "stdout",
          "text": [
            "2\n"
          ]
        }
      ]
    },
    {
      "cell_type": "code",
      "source": [
        "# Let it be 가사가 몇번 나오는지 확인하는 프로그램\n",
        "# upper(), lower()\n",
        "result = \"\"\"\n",
        "When I find myself in times of trouble Mother Mary comes to me Speaking words of wisdom\n",
        " let it be And in my hour of darkness She is standing right in front of me Speaking words of wisdom \n",
        " let it be Let it be let it be Let it be let it be Whisper words of wisdom \n",
        " let it be And when the broken-hearted people Living in the world agree There will be an answer \n",
        " let it be For though they may be parted There is still a chance that they will see There will be an answer \n",
        " let it be Let it be let it be Let it be let it be Yeah there will be an answer \n",
        " let it be Let it be let it be Let it be let it be Whisper words of wisdom let it be Let it be let it be Ah \n",
        " let it be yeah let it be Whisper words of wisdom let it be And when the night is cloudy There is still a light \n",
        " that shines on me Shine on until tomorrow let it be I wake up to the sound of music Mother Mary comes to \n",
        " me Speaking words of wisdom let it be Let it be let it be Let it be yeah let it be Oh there will be an answer \n",
        " let it be Let it be let it be Let it be yeah let it be Whisper words of wisdom let it be\n",
        " \"\"\"\n",
        "\n",
        "result = result.upper()\n",
        "result1 = result.count(\"LET IT BE\")\n",
        "print(\"LET IT BE는 총 몇 \",result1,\"번 나옵니다. \")"
      ],
      "metadata": {
        "colab": {
          "base_uri": "https://localhost:8080/"
        },
        "id": "0PGOmPZUj8w2",
        "outputId": "97dfb320-2f2c-426c-9a97-3a85c1ae7a0e"
      },
      "execution_count": null,
      "outputs": [
        {
          "output_type": "stream",
          "name": "stdout",
          "text": [
            "LET IT BE는 총 몇  36 번 나옵니다. \n"
          ]
        }
      ]
    }
  ]
}