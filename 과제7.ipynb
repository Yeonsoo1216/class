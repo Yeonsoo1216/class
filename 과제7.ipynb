{
  "nbformat": 4,
  "nbformat_minor": 0,
  "metadata": {
    "colab": {
      "provenance": []
    },
    "kernelspec": {
      "name": "python3",
      "display_name": "Python 3"
    },
    "language_info": {
      "name": "python"
    }
  },
  "cells": [
    {
      "cell_type": "code",
      "execution_count": null,
      "metadata": {
        "colab": {
          "base_uri": "https://localhost:8080/"
        },
        "id": "ohSWNONJXPmd",
        "outputId": "8b750006-3436-44c9-d14e-476e5d73a007"
      },
      "outputs": [
        {
          "output_type": "stream",
          "name": "stdout",
          "text": [
            "100보다 큽니다. \n",
            "프로그램\n",
            "끝\n"
          ]
        }
      ],
      "source": [
        "num = 200\n",
        "if num > 100 :\n",
        "  print(\"100보다 큽니다. \")\n",
        "  print(\"프로그램\")\n",
        "  print(\"끝\")"
      ]
    },
    {
      "cell_type": "code",
      "source": [
        "num = int(input(\"정수를 입력 : \"))\n",
        "if num%2 == 0 :\n",
        "  print(\" 짝수\",\"입니다\")\n",
        "else :\n",
        "  print(\" 홀수\",\"입니다\")\n"
      ],
      "metadata": {
        "colab": {
          "base_uri": "https://localhost:8080/"
        },
        "id": "CStiCPetYM-V",
        "outputId": "6ca09c41-a1fb-4fce-f0e3-a0d2c3b100f2"
      },
      "execution_count": null,
      "outputs": [
        {
          "output_type": "stream",
          "name": "stdout",
          "text": [
            "정수를 입력 : 3\n",
            " 홀수 입니다\n"
          ]
        }
      ]
    },
    {
      "cell_type": "code",
      "source": [
        "num = int(input(\"숫자를 입력 : \"))\n",
        "if num >= 100 :\n",
        "  if num <= 1000 :\n",
        "    print(\"100에서 1000사이다.\")\n",
        "  else :\n",
        "    print(\"1000보다 크다.\")\n",
        "else :\n",
        "  print(\"100보다 작다.\")"
      ],
      "metadata": {
        "colab": {
          "base_uri": "https://localhost:8080/"
        },
        "id": "-a-ixk5RZLjk",
        "outputId": "6effb19a-ff44-41fb-b36a-f561b57e2abb"
      },
      "execution_count": null,
      "outputs": [
        {
          "output_type": "stream",
          "name": "stdout",
          "text": [
            "숫자를 입력 : 1992\n",
            "100보다 크다.\n"
          ]
        }
      ]
    },
    {
      "cell_type": "code",
      "source": [
        "score = int(input(\"점수를 입력 : \"))\n",
        "if score >= 90 :\n",
        "  print(\"A학점입니다.\")\n",
        "else :\n",
        "  if score >= 80 :\n",
        "    print(\"B학점입니다.\")\n",
        "  else :\n",
        "    if score >= 70 :\n",
        "      print(\"C학점입니다.\")\n",
        "    else :\n",
        "      if score >= 60 :\n",
        "        print(\"D학점입니다.\")\n",
        "      else :\n",
        "        print(\"F학점입니다.\") "
      ],
      "metadata": {
        "colab": {
          "base_uri": "https://localhost:8080/"
        },
        "id": "KiKH_yxecOM1",
        "outputId": "9408a00c-165c-40be-a59a-8da960a8e390"
      },
      "execution_count": null,
      "outputs": [
        {
          "output_type": "stream",
          "name": "stdout",
          "text": [
            "점수를 입력 : 77\n",
            "C학점입니다.\n"
          ]
        }
      ]
    }
  ]
}